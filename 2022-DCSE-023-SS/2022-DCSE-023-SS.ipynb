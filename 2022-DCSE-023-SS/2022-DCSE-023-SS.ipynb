{
 "cells": [
  {
   "cell_type": "markdown",
   "id": "54ee590f",
   "metadata": {},
   "source": [
    "## KEY INSTRUCTIONS  \n",
    "\n",
    "It is essential that you answer each cell by assigning the solution to QUESTION_# where # is the question number.\n",
    "\n",
    "Each `QUESTION_#` will be preceeded by some key guidance and any libraries that may be required to complete and run the code successfully. \n",
    "\n",
    "KINDLY READ ALL THE QUESTIONS & GUIDANCE AS CAREFULLY AS YOU CAN TO GET AN UNDERSTANDING OF ALL REQUIREMENTS ON EACH QUESTION_#\n",
    "\n",
    "## `ATTEMPT ALL FIRST SEVEN QUESTIONS AND AN ADDITIONAL ONE QUESTION FROM QUESTIONS 8 AND 9`\n",
    "\n",
    "## TIME ALLOWED: 3 HOURS "
   ]
  },
  {
   "cell_type": "markdown",
   "id": "5fbdba0d",
   "metadata": {},
   "source": [
    "### Importing the neccessary libraries"
   ]
  },
  {
   "cell_type": "code",
   "execution_count": 114,
   "id": "baebd1a9",
   "metadata": {},
   "outputs": [],
   "source": [
    "#Import the neccessary Libraries by adding the following command in your Jupyter Notebook and run the cell\n",
    "\n",
    "import pandas as pd\n",
    "import numpy as np\n",
    "import matplotlib.pyplot as plt\n",
    "%matplotlib inline\n"
   ]
  },
  {
   "cell_type": "markdown",
   "id": "cc165bae",
   "metadata": {},
   "source": [
    "## Question 1 \n",
    "\n",
    "Construct a matrix below ; \n",
    "\n",
    "$$\\left[\\begin{array}{ccc} 1 & 0.2 & 0.5 \\\\ 0.2 & 1 & 0.8 \\\\ 0.5 & 0.8 & 1 \\end{array}\\right]$$\n",
    "\n",
    "as a NumPy array.\n",
    "\n",
    "\n",
    "(a). Compute an Inversion of the matrix (`Transpose`) \n",
    "\n",
    "(b). Computer the (`determinant`) of the matrix if possible "
   ]
  },
  {
   "cell_type": "code",
   "execution_count": 119,
   "id": "aed08071",
   "metadata": {},
   "outputs": [
    {
     "name": "stdout",
     "output_type": "stream",
     "text": [
      "[[1.  0.2 0.5]\n",
      " [0.2 1.  0.8]\n",
      " [0.5 0.8 1. ]]\n",
      "[[1.  0.2 0.5]\n",
      " [0.2 1.  0.8]\n",
      " [0.5 0.8 1. ]]\n"
     ]
    }
   ],
   "source": [
    "#Question_1(a) \n",
    "x = [[1, 0.2, 0.5], [0.2, 1, 0.8], [0.5, 0.8, 1]] #Assigning the matrix given to a variable x\n",
    "y = np.array(x) #changing the variable into an array by assigning it to another variable\n",
    "print(y) #Finding the transpose of the array y\n",
    "print(y.T) #Finding the transpose of the array\n",
    "\n"
   ]
  },
  {
   "cell_type": "code",
   "execution_count": null,
   "id": "469fade2",
   "metadata": {},
   "outputs": [],
   "source": [
    "#Question_1(b)\n",
    "#Couldn't compute the determinant of y "
   ]
  },
  {
   "cell_type": "markdown",
   "id": "434cb976",
   "metadata": {},
   "source": [
    "## Question 2\n",
    "\n",
    "Construct a DataFrame starting from the matrix below\n",
    "\n",
    "$$\\left[\\begin{array}{ccc} 1 & 0.2 & 0.5 \\\\ 0.2 & 1 & 0.8 \\\\ 0.5 & 0.8 & 1 \\end{array}\\right]$$\n",
    "\n",
    "as a DataFrame with columns and index both equal to `['A', 'B', 'C']`. "
   ]
  },
  {
   "cell_type": "code",
   "execution_count": null,
   "id": "0b2a4e95",
   "metadata": {},
   "outputs": [],
   "source": [
    "\n"
   ]
  },
  {
   "cell_type": "markdown",
   "id": "24844990",
   "metadata": {},
   "source": [
    "### Question 3: Given an n-dim array with enteries: 25, 2, 5;"
   ]
  },
  {
   "cell_type": "markdown",
   "id": "d67fc19f",
   "metadata": {},
   "source": [
    "1. Generate a numpy array x from the given entries\n",
    "2. What is the shape of the array x\n",
    "3. What is its transpose\n",
    "4. Compute its $L^2$ Norm"
   ]
  },
  {
   "cell_type": "code",
   "execution_count": 86,
   "id": "ff400039",
   "metadata": {},
   "outputs": [
    {
     "data": {
      "text/plain": [
       "array([[[8, 4, 1, 7, 8],\n",
       "        [1, 2, 1, 1, 7]],\n",
       "\n",
       "       [[5, 0, 4, 1, 1],\n",
       "        [6, 6, 0, 2, 3]],\n",
       "\n",
       "       [[7, 9, 2, 4, 9],\n",
       "        [0, 6, 9, 2, 4]],\n",
       "\n",
       "       [[7, 3, 0, 5, 4],\n",
       "        [0, 2, 3, 1, 7]],\n",
       "\n",
       "       [[1, 3, 4, 1, 7],\n",
       "        [4, 0, 2, 7, 4]],\n",
       "\n",
       "       [[0, 2, 6, 9, 2],\n",
       "        [4, 9, 9, 5, 4]],\n",
       "\n",
       "       [[4, 9, 8, 1, 5],\n",
       "        [7, 0, 1, 3, 9]],\n",
       "\n",
       "       [[2, 8, 2, 4, 8],\n",
       "        [2, 9, 8, 7, 8]],\n",
       "\n",
       "       [[2, 3, 3, 6, 0],\n",
       "        [3, 6, 3, 9, 6]],\n",
       "\n",
       "       [[3, 2, 2, 2, 6],\n",
       "        [4, 6, 0, 4, 9]],\n",
       "\n",
       "       [[2, 1, 6, 1, 7],\n",
       "        [5, 6, 1, 6, 6]],\n",
       "\n",
       "       [[6, 6, 2, 5, 2],\n",
       "        [2, 3, 2, 9, 3]],\n",
       "\n",
       "       [[8, 5, 4, 5, 1],\n",
       "        [5, 8, 2, 9, 9]],\n",
       "\n",
       "       [[5, 6, 4, 0, 8],\n",
       "        [5, 5, 5, 1, 0]],\n",
       "\n",
       "       [[0, 0, 0, 0, 7],\n",
       "        [6, 3, 5, 4, 3]],\n",
       "\n",
       "       [[4, 5, 1, 3, 6],\n",
       "        [7, 4, 0, 0, 7]],\n",
       "\n",
       "       [[3, 3, 0, 0, 9],\n",
       "        [4, 4, 5, 8, 8]],\n",
       "\n",
       "       [[0, 1, 5, 9, 9],\n",
       "        [6, 1, 4, 0, 4]],\n",
       "\n",
       "       [[7, 7, 7, 6, 2],\n",
       "        [6, 0, 2, 7, 7]],\n",
       "\n",
       "       [[2, 6, 1, 3, 7],\n",
       "        [0, 5, 4, 5, 5]],\n",
       "\n",
       "       [[3, 8, 0, 1, 5],\n",
       "        [4, 1, 5, 0, 6]],\n",
       "\n",
       "       [[8, 8, 6, 3, 4],\n",
       "        [4, 3, 6, 5, 9]],\n",
       "\n",
       "       [[8, 1, 3, 8, 1],\n",
       "        [5, 8, 0, 3, 7]],\n",
       "\n",
       "       [[1, 7, 8, 0, 7],\n",
       "        [5, 9, 9, 6, 8]],\n",
       "\n",
       "       [[7, 5, 9, 1, 0],\n",
       "        [0, 5, 6, 3, 6]]])"
      ]
     },
     "execution_count": 86,
     "metadata": {},
     "output_type": "execute_result"
    }
   ],
   "source": [
    "#Question 3(1)\n",
    "x = np.random.randint(10, size = (25, 2, 5)) #Creating the array x\n",
    "x\n"
   ]
  },
  {
   "cell_type": "code",
   "execution_count": 89,
   "id": "5be48b69",
   "metadata": {},
   "outputs": [
    {
     "data": {
      "text/plain": [
       "(25, 2, 5)"
      ]
     },
     "execution_count": 89,
     "metadata": {},
     "output_type": "execute_result"
    }
   ],
   "source": [
    "#Question_3(2)\n",
    "x.shape #Finding the shape of the array"
   ]
  },
  {
   "cell_type": "code",
   "execution_count": 92,
   "id": "ab21e74a",
   "metadata": {},
   "outputs": [
    {
     "data": {
      "text/plain": [
       "array([[[8, 5, 7, 7, 1, 0, 4, 2, 2, 3, 2, 6, 8, 5, 0, 4, 3, 0, 7, 2, 3,\n",
       "         8, 8, 1, 7],\n",
       "        [1, 6, 0, 0, 4, 4, 7, 2, 3, 4, 5, 2, 5, 5, 6, 7, 4, 6, 6, 0, 4,\n",
       "         4, 5, 5, 0]],\n",
       "\n",
       "       [[4, 0, 9, 3, 3, 2, 9, 8, 3, 2, 1, 6, 5, 6, 0, 5, 3, 1, 7, 6, 8,\n",
       "         8, 1, 7, 5],\n",
       "        [2, 6, 6, 2, 0, 9, 0, 9, 6, 6, 6, 3, 8, 5, 3, 4, 4, 1, 0, 5, 1,\n",
       "         3, 8, 9, 5]],\n",
       "\n",
       "       [[1, 4, 2, 0, 4, 6, 8, 2, 3, 2, 6, 2, 4, 4, 0, 1, 0, 5, 7, 1, 0,\n",
       "         6, 3, 8, 9],\n",
       "        [1, 0, 9, 3, 2, 9, 1, 8, 3, 0, 1, 2, 2, 5, 5, 0, 5, 4, 2, 4, 5,\n",
       "         6, 0, 9, 6]],\n",
       "\n",
       "       [[7, 1, 4, 5, 1, 9, 1, 4, 6, 2, 1, 5, 5, 0, 0, 3, 0, 9, 6, 3, 1,\n",
       "         3, 8, 0, 1],\n",
       "        [1, 2, 2, 1, 7, 5, 3, 7, 9, 4, 6, 9, 9, 1, 4, 0, 8, 0, 7, 5, 0,\n",
       "         5, 3, 6, 3]],\n",
       "\n",
       "       [[8, 1, 9, 4, 7, 2, 5, 8, 0, 6, 7, 2, 1, 8, 7, 6, 9, 9, 2, 7, 5,\n",
       "         4, 1, 7, 0],\n",
       "        [7, 3, 4, 7, 4, 4, 9, 8, 6, 9, 6, 3, 9, 0, 3, 7, 8, 4, 7, 5, 6,\n",
       "         9, 7, 8, 6]]])"
      ]
     },
     "execution_count": 92,
     "metadata": {},
     "output_type": "execute_result"
    }
   ],
   "source": [
    "#Question_3(3)\n",
    "x.T #Finding the transpose of the array"
   ]
  },
  {
   "cell_type": "markdown",
   "id": "be5646aa",
   "metadata": {},
   "source": [
    "### Question 4: Given a uniform random variable"
   ]
  },
  {
   "cell_type": "markdown",
   "id": "56cf59d8",
   "metadata": {},
   "source": [
    "Compute the Mean, variance, median, mode of the distribution"
   ]
  },
  {
   "cell_type": "markdown",
   "id": "013cdb1e",
   "metadata": {},
   "source": [
    "### Question 5: Given the following n-darrays, X1, X2 and X3"
   ]
  },
  {
   "cell_type": "code",
   "execution_count": 116,
   "id": "bb343d05",
   "metadata": {},
   "outputs": [],
   "source": [
    "import numpy as np\n",
    "np.random.seed(0)  # seed for reproducibility\n",
    "\n",
    "x1 = np.random.randint(10, size=6)  # One-dimensional array\n",
    "x2 = np.random.randint(10, size=(3, 4))  # Two-dimensional array\n",
    "x3 = np.random.randint(10, size=(3, 4, 5))  # Three-dimensional array"
   ]
  },
  {
   "cell_type": "markdown",
   "id": "780f273b",
   "metadata": {},
   "source": [
    "Each array has attributes ``ndim`` (the number of dimensions), ``shape`` (the size of each dimension), and ``size`` (the total size of the array):"
   ]
  },
  {
   "cell_type": "markdown",
   "id": "acd5d057",
   "metadata": {},
   "source": [
    "### (a) Find the ``ndim``, ``shape``, and ``size`` of "
   ]
  },
  {
   "cell_type": "code",
   "execution_count": 109,
   "id": "c100f4f0",
   "metadata": {},
   "outputs": [
    {
     "name": "stdout",
     "output_type": "stream",
     "text": [
      "[[[8 1 5 9 8]\n",
      "  [9 4 3 0 3]\n",
      "  [5 0 2 3 8]\n",
      "  [1 3 3 3 7]]\n",
      "\n",
      " [[0 1 9 9 0]\n",
      "  [4 7 3 2 7]\n",
      "  [2 0 0 4 5]\n",
      "  [5 6 8 4 1]]\n",
      "\n",
      " [[4 9 8 1 1]\n",
      "  [7 9 9 3 6]\n",
      "  [7 2 0 3 5]\n",
      "  [9 4 4 6 4]]]\n",
      "3\n",
      "(3, 4, 5)\n",
      "60\n"
     ]
    }
   ],
   "source": [
    "#Working on x3 \n",
    "print(x3) \n",
    "print(x3.ndim) #Finding the number of dimensions of x3\n",
    "print(x3.shape) #Finding the shape of x3\n",
    "print(x3.size) #Finding the size of x3"
   ]
  },
  {
   "cell_type": "code",
   "execution_count": 108,
   "id": "0e2b6e25",
   "metadata": {},
   "outputs": [
    {
     "name": "stdout",
     "output_type": "stream",
     "text": [
      "[[3 5 2 4]\n",
      " [7 6 8 8]\n",
      " [1 6 7 7]]\n",
      "2\n",
      "(3, 4)\n",
      "12\n"
     ]
    }
   ],
   "source": [
    "#Working on x2\n",
    "print(x2)\n",
    "print(x2.ndim) #Finding the number of dimensions of x2\n",
    "print(x2.shape) #Finding the shape of x2\n",
    "print(x2.size) #Finding the size of x2"
   ]
  },
  {
   "cell_type": "code",
   "execution_count": 107,
   "id": "2349ba37",
   "metadata": {},
   "outputs": [
    {
     "name": "stdout",
     "output_type": "stream",
     "text": [
      "[5 0 3 3 7 9]\n",
      "1\n",
      "(6,)\n",
      "6\n"
     ]
    }
   ],
   "source": [
    "#Working on x1\n",
    "print(x1)\n",
    "print(x1.ndim)#Finding the number of dimensions of x2\n",
    "print(x1.shape) #Finding the shape of x2\n",
    "print(x1.size) #Finding the size of x2"
   ]
  },
  {
   "cell_type": "markdown",
   "id": "cb4c0213",
   "metadata": {},
   "source": [
    "### (b) Modify the Values in matrix X2 in the index ``[0,0] = 12``"
   ]
  },
  {
   "cell_type": "code",
   "execution_count": 106,
   "id": "d6e59f9a",
   "metadata": {},
   "outputs": [
    {
     "ename": "TypeError",
     "evalue": "'numpy.ndarray' object is not callable",
     "output_type": "error",
     "traceback": [
      "\u001b[1;31m---------------------------------------------------------------------------\u001b[0m",
      "\u001b[1;31mTypeError\u001b[0m                                 Traceback (most recent call last)",
      "Input \u001b[1;32mIn [106]\u001b[0m, in \u001b[0;36m<cell line: 1>\u001b[1;34m()\u001b[0m\n\u001b[1;32m----> 1\u001b[0m \u001b[43mx2\u001b[49m\u001b[43m(\u001b[49m\u001b[38;5;241;43m0\u001b[39;49m\u001b[43m,\u001b[49m\u001b[43m \u001b[49m\u001b[38;5;241;43m0\u001b[39;49m\u001b[43m)\u001b[49m\n\u001b[0;32m      2\u001b[0m x2\n",
      "\u001b[1;31mTypeError\u001b[0m: 'numpy.ndarray' object is not callable"
     ]
    }
   ],
   "source": [
    "x2(0, 0)\n",
    "x2"
   ]
  },
  {
   "cell_type": "markdown",
   "id": "13906cb8",
   "metadata": {},
   "source": [
    "### Question 6:"
   ]
  },
  {
   "cell_type": "markdown",
   "id": "49dab7f6",
   "metadata": {},
   "source": [
    "Create the array below with a = np.arange(25).reshape(5, 5) and extract the elements indicated in blue.\n",
    "\n",
    "(a). Extract all the numbers divisible by 3 using a boolean mask.\n",
    "\n",
    "(b). Create a simple array, check type, size, dimension, and modify/ append values.\n"
   ]
  },
  {
   "cell_type": "code",
   "execution_count": 118,
   "id": "6fd56d36",
   "metadata": {},
   "outputs": [
    {
     "data": {
      "text/plain": [
       "array([[ 0,  1,  2,  3,  4],\n",
       "       [ 5,  6,  7,  8,  9],\n",
       "       [10, 11, 12, 13, 14],\n",
       "       [15, 16, 17, 18, 19],\n",
       "       [20, 21, 22, 23, 24]])"
      ]
     },
     "execution_count": 118,
     "metadata": {},
     "output_type": "execute_result"
    }
   ],
   "source": [
    "#Question_6\n",
    "a = np.arange(25).reshape(5, 5)\n",
    "a"
   ]
  },
  {
   "cell_type": "code",
   "execution_count": 105,
   "id": "ec8a75ec",
   "metadata": {},
   "outputs": [
    {
     "name": "stdout",
     "output_type": "stream",
     "text": [
      "int32\n",
      "25\n",
      "(5, 5)\n"
     ]
    }
   ],
   "source": [
    "#Question_6(b)\n",
    "import numpy as np\n",
    "print(a.dtype) #Finding the type of a\n",
    "print(a.size) #Finding the size of a\n",
    "print(a.shape) #Finding the shape of a\n",
    "\n"
   ]
  },
  {
   "cell_type": "markdown",
   "id": "e18720a0",
   "metadata": {},
   "source": [
    "### Question 7"
   ]
  },
  {
   "cell_type": "markdown",
   "id": "6bb493af",
   "metadata": {},
   "source": [
    "Create the array below with\n",
    "``a = np.arange(-15, 15).reshape(5, 6) ** 2``\n",
    "and compute:\n",
    "1. The maximum of each row\n",
    "2. The mean of each column\n",
    "3. The position of the overall minimum"
   ]
  },
  {
   "cell_type": "code",
   "execution_count": 145,
   "id": "55d71d5e",
   "metadata": {},
   "outputs": [
    {
     "name": "stdout",
     "output_type": "stream",
     "text": [
      "[[225 196 169 144 121 100]\n",
      " [ 81  64  49  36  25  16]\n",
      " [  9   4   1   0   1   4]\n",
      " [  9  16  25  36  49  64]\n",
      " [ 81 100 121 144 169 196]]\n"
     ]
    },
    {
     "ename": "TypeError",
     "evalue": "'numpy.ndarray' object is not callable",
     "output_type": "error",
     "traceback": [
      "\u001b[1;31m---------------------------------------------------------------------------\u001b[0m",
      "\u001b[1;31mTypeError\u001b[0m                                 Traceback (most recent call last)",
      "Input \u001b[1;32mIn [145]\u001b[0m, in \u001b[0;36m<cell line: 5>\u001b[1;34m()\u001b[0m\n\u001b[0;32m      2\u001b[0m \u001b[38;5;28mprint\u001b[39m(w)\n\u001b[0;32m      3\u001b[0m \u001b[38;5;66;03m#Finding the maximum in each row, by extracting the\u001b[39;00m\n\u001b[0;32m      4\u001b[0m \u001b[38;5;66;03m#row and assigning it to a variable, then finding the max in that variable(row)\u001b[39;00m\n\u001b[1;32m----> 5\u001b[0m z \u001b[38;5;241m=\u001b[39m np\u001b[38;5;241m.\u001b[39marray((\u001b[43mw\u001b[49m\u001b[43m(\u001b[49m\u001b[38;5;241;43m0\u001b[39;49m\u001b[43m)\u001b[49m)) \u001b[38;5;66;03m#for the first row\u001b[39;00m\n\u001b[0;32m      6\u001b[0m \u001b[38;5;28mprint\u001b[39m(z\u001b[38;5;241m.\u001b[39mmax()) \n\u001b[0;32m      7\u001b[0m t \u001b[38;5;241m=\u001b[39m w\u001b[38;5;241m.\u001b[39mmax(\u001b[38;5;241m0\u001b[39m, \u001b[38;5;241m1\u001b[39m) \u001b[38;5;66;03m#for the second row\u001b[39;00m\n",
      "\u001b[1;31mTypeError\u001b[0m: 'numpy.ndarray' object is not callable"
     ]
    }
   ],
   "source": [
    "w = np.arange(-15, 15).reshape(5, 6) ** 2\n",
    "print(w)\n",
    "\n",
    "\n"
   ]
  },
  {
   "cell_type": "markdown",
   "id": "358f36eb",
   "metadata": {},
   "source": [
    "### Question 8\n",
    "\n",
    "Using the dataset named ``winequality-red.csv``. Compute\n",
    "\n"
   ]
  },
  {
   "cell_type": "markdown",
   "id": "62ef2606",
   "metadata": {},
   "source": [
    "(a) Write a clean piece of code to compute the descriptive statistics \n",
    "\n",
    "(b) Write a simple piece of code to Sneak-Peek into dataset\n",
    "\n",
    "(c) Write code to show Columns Names\n",
    "\n",
    "(d) Write a piece of code to show Column Information\n",
    "\n",
    "(e) Data cleaning always consists of the following methods :Removal of na values; Removal of null values; Removal of outliers if ``any``; Removal of redundant data\n",
    "\n",
    "write clean pieces of code to:\n",
    "1. na-values checking\n",
    "2. null-values check\n",
    "3. Redundant Data Removal"
   ]
  },
  {
   "cell_type": "code",
   "execution_count": 147,
   "id": "088a69da",
   "metadata": {},
   "outputs": [],
   "source": [
    "import pandas as pd\n",
    "pd.read_csv('winequality-red.csv') #Importing the winequality-red.csv file that is in the folder\n",
    "winequality = pd.read_csv('winequality-red.csv') #Assigning imy dataset to a variable\n",
    "print(winequality)\n"
   ]
  },
  {
   "cell_type": "code",
   "execution_count": 153,
   "id": "7d58b71a",
   "metadata": {},
   "outputs": [
    {
     "name": "stdout",
     "output_type": "stream",
     "text": [
      "<bound method NDFrame._add_numeric_operations.<locals>.mean of       fixed_acidity  volatile_acidity  citric_acid  residual_sugar  chlorides  \\\n",
      "0               7.4             0.700         0.00             1.9      0.076   \n",
      "1               7.8             0.880         0.00             2.6      0.098   \n",
      "2               7.8             0.760         0.04             2.3      0.092   \n",
      "3              11.2             0.280         0.56             1.9      0.075   \n",
      "4               7.4             0.700         0.00             1.9      0.076   \n",
      "...             ...               ...          ...             ...        ...   \n",
      "1594            6.2             0.600         0.08             2.0      0.090   \n",
      "1595            5.9             0.550         0.10             2.2      0.062   \n",
      "1596            6.3             0.510         0.13             2.3      0.076   \n",
      "1597            5.9             0.645         0.12             2.0      0.075   \n",
      "1598            6.0             0.310         0.47             3.6      0.067   \n",
      "\n",
      "      free_sulfur_dioxide  total_sulfur_dioxide  density    ph  sulphates  \\\n",
      "0                    11.0                  34.0  0.99780  3.51       0.56   \n",
      "1                    25.0                  67.0  0.99680  3.20       0.68   \n",
      "2                    15.0                  54.0  0.99700  3.26       0.65   \n",
      "3                    17.0                  60.0  0.99800  3.16       0.58   \n",
      "4                    11.0                  34.0  0.99780  3.51       0.56   \n",
      "...                   ...                   ...      ...   ...        ...   \n",
      "1594                 32.0                  44.0  0.99490  3.45       0.58   \n",
      "1595                 39.0                  51.0  0.99512  3.52       0.76   \n",
      "1596                 29.0                  40.0  0.99574  3.42       0.75   \n",
      "1597                 32.0                  44.0  0.99547  3.57       0.71   \n",
      "1598                 18.0                  42.0  0.99549  3.39       0.66   \n",
      "\n",
      "      alcohol  quality  \n",
      "0         9.4        5  \n",
      "1         9.8        5  \n",
      "2         9.8        5  \n",
      "3         9.8        6  \n",
      "4         9.4        5  \n",
      "...       ...      ...  \n",
      "1594     10.5        5  \n",
      "1595     11.2        6  \n",
      "1596     11.0        6  \n",
      "1597     10.2        5  \n",
      "1598     11.0        6  \n",
      "\n",
      "[1599 rows x 12 columns]>\n",
      "<bound method NDFrame._add_numeric_operations.<locals>.median of       fixed_acidity  volatile_acidity  citric_acid  residual_sugar  chlorides  \\\n",
      "0               7.4             0.700         0.00             1.9      0.076   \n",
      "1               7.8             0.880         0.00             2.6      0.098   \n",
      "2               7.8             0.760         0.04             2.3      0.092   \n",
      "3              11.2             0.280         0.56             1.9      0.075   \n",
      "4               7.4             0.700         0.00             1.9      0.076   \n",
      "...             ...               ...          ...             ...        ...   \n",
      "1594            6.2             0.600         0.08             2.0      0.090   \n",
      "1595            5.9             0.550         0.10             2.2      0.062   \n",
      "1596            6.3             0.510         0.13             2.3      0.076   \n",
      "1597            5.9             0.645         0.12             2.0      0.075   \n",
      "1598            6.0             0.310         0.47             3.6      0.067   \n",
      "\n",
      "      free_sulfur_dioxide  total_sulfur_dioxide  density    ph  sulphates  \\\n",
      "0                    11.0                  34.0  0.99780  3.51       0.56   \n",
      "1                    25.0                  67.0  0.99680  3.20       0.68   \n",
      "2                    15.0                  54.0  0.99700  3.26       0.65   \n",
      "3                    17.0                  60.0  0.99800  3.16       0.58   \n",
      "4                    11.0                  34.0  0.99780  3.51       0.56   \n",
      "...                   ...                   ...      ...   ...        ...   \n",
      "1594                 32.0                  44.0  0.99490  3.45       0.58   \n",
      "1595                 39.0                  51.0  0.99512  3.52       0.76   \n",
      "1596                 29.0                  40.0  0.99574  3.42       0.75   \n",
      "1597                 32.0                  44.0  0.99547  3.57       0.71   \n",
      "1598                 18.0                  42.0  0.99549  3.39       0.66   \n",
      "\n",
      "      alcohol  quality  \n",
      "0         9.4        5  \n",
      "1         9.8        5  \n",
      "2         9.8        5  \n",
      "3         9.8        6  \n",
      "4         9.4        5  \n",
      "...       ...      ...  \n",
      "1594     10.5        5  \n",
      "1595     11.2        6  \n",
      "1596     11.0        6  \n",
      "1597     10.2        5  \n",
      "1598     11.0        6  \n",
      "\n",
      "[1599 rows x 12 columns]>\n",
      "<bound method DataFrame.mode of       fixed_acidity  volatile_acidity  citric_acid  residual_sugar  chlorides  \\\n",
      "0               7.4             0.700         0.00             1.9      0.076   \n",
      "1               7.8             0.880         0.00             2.6      0.098   \n",
      "2               7.8             0.760         0.04             2.3      0.092   \n",
      "3              11.2             0.280         0.56             1.9      0.075   \n",
      "4               7.4             0.700         0.00             1.9      0.076   \n",
      "...             ...               ...          ...             ...        ...   \n",
      "1594            6.2             0.600         0.08             2.0      0.090   \n",
      "1595            5.9             0.550         0.10             2.2      0.062   \n",
      "1596            6.3             0.510         0.13             2.3      0.076   \n",
      "1597            5.9             0.645         0.12             2.0      0.075   \n",
      "1598            6.0             0.310         0.47             3.6      0.067   \n",
      "\n",
      "      free_sulfur_dioxide  total_sulfur_dioxide  density    ph  sulphates  \\\n",
      "0                    11.0                  34.0  0.99780  3.51       0.56   \n",
      "1                    25.0                  67.0  0.99680  3.20       0.68   \n",
      "2                    15.0                  54.0  0.99700  3.26       0.65   \n",
      "3                    17.0                  60.0  0.99800  3.16       0.58   \n",
      "4                    11.0                  34.0  0.99780  3.51       0.56   \n",
      "...                   ...                   ...      ...   ...        ...   \n",
      "1594                 32.0                  44.0  0.99490  3.45       0.58   \n",
      "1595                 39.0                  51.0  0.99512  3.52       0.76   \n",
      "1596                 29.0                  40.0  0.99574  3.42       0.75   \n",
      "1597                 32.0                  44.0  0.99547  3.57       0.71   \n",
      "1598                 18.0                  42.0  0.99549  3.39       0.66   \n",
      "\n",
      "      alcohol  quality  \n",
      "0         9.4        5  \n",
      "1         9.8        5  \n",
      "2         9.8        5  \n",
      "3         9.8        6  \n",
      "4         9.4        5  \n",
      "...       ...      ...  \n",
      "1594     10.5        5  \n",
      "1595     11.2        6  \n",
      "1596     11.0        6  \n",
      "1597     10.2        5  \n",
      "1598     11.0        6  \n",
      "\n",
      "[1599 rows x 12 columns]>\n",
      "<bound method NDFrame._add_numeric_operations.<locals>.var of       fixed_acidity  volatile_acidity  citric_acid  residual_sugar  chlorides  \\\n",
      "0               7.4             0.700         0.00             1.9      0.076   \n",
      "1               7.8             0.880         0.00             2.6      0.098   \n",
      "2               7.8             0.760         0.04             2.3      0.092   \n",
      "3              11.2             0.280         0.56             1.9      0.075   \n",
      "4               7.4             0.700         0.00             1.9      0.076   \n",
      "...             ...               ...          ...             ...        ...   \n",
      "1594            6.2             0.600         0.08             2.0      0.090   \n",
      "1595            5.9             0.550         0.10             2.2      0.062   \n",
      "1596            6.3             0.510         0.13             2.3      0.076   \n",
      "1597            5.9             0.645         0.12             2.0      0.075   \n",
      "1598            6.0             0.310         0.47             3.6      0.067   \n",
      "\n",
      "      free_sulfur_dioxide  total_sulfur_dioxide  density    ph  sulphates  \\\n",
      "0                    11.0                  34.0  0.99780  3.51       0.56   \n",
      "1                    25.0                  67.0  0.99680  3.20       0.68   \n",
      "2                    15.0                  54.0  0.99700  3.26       0.65   \n",
      "3                    17.0                  60.0  0.99800  3.16       0.58   \n",
      "4                    11.0                  34.0  0.99780  3.51       0.56   \n",
      "...                   ...                   ...      ...   ...        ...   \n",
      "1594                 32.0                  44.0  0.99490  3.45       0.58   \n",
      "1595                 39.0                  51.0  0.99512  3.52       0.76   \n",
      "1596                 29.0                  40.0  0.99574  3.42       0.75   \n",
      "1597                 32.0                  44.0  0.99547  3.57       0.71   \n",
      "1598                 18.0                  42.0  0.99549  3.39       0.66   \n",
      "\n",
      "      alcohol  quality  \n",
      "0         9.4        5  \n",
      "1         9.8        5  \n",
      "2         9.8        5  \n",
      "3         9.8        6  \n",
      "4         9.4        5  \n",
      "...       ...      ...  \n",
      "1594     10.5        5  \n",
      "1595     11.2        6  \n",
      "1596     11.0        6  \n",
      "1597     10.2        5  \n",
      "1598     11.0        6  \n",
      "\n",
      "[1599 rows x 12 columns]>\n",
      "fixed_acidity            1.741096\n",
      "volatile_acidity         0.179060\n",
      "citric_acid              0.194801\n",
      "residual_sugar           1.409928\n",
      "chlorides                0.047065\n",
      "free_sulfur_dioxide     10.460157\n",
      "total_sulfur_dioxide    32.895324\n",
      "density                  0.001887\n",
      "ph                       0.154386\n",
      "sulphates                0.169507\n",
      "alcohol                  1.065668\n",
      "quality                  0.807569\n",
      "dtype: float64\n"
     ]
    }
   ],
   "source": [
    "#Question_8(a)\n",
    "#Computing th e descriptive statistics of the dataset\n",
    "print(winequality.mean)\n",
    "print(winequality.median)\n",
    "print(winequality.mode) \n",
    "print(winequality.var) # Finding the variance\n",
    "print(winequality.std()) #finding the standard deviation"
   ]
  },
  {
   "cell_type": "code",
   "execution_count": null,
   "id": "ca86de65",
   "metadata": {},
   "outputs": [],
   "source": []
  },
  {
   "cell_type": "code",
   "execution_count": null,
   "id": "0bd78216",
   "metadata": {},
   "outputs": [],
   "source": []
  },
  {
   "cell_type": "markdown",
   "id": "ef216adc",
   "metadata": {},
   "source": [
    "## Question 9\n",
    "\n",
    "Load the covid-19 dataset in the CSV file `COVID-19 Cases.csv`, set the column `date` \n",
    "as the index, and ensure that `date` is a `DateTimeIndex`.\n",
    "\n",
    "(a) Print a view of first 10 lines of the dataset\n",
    "\n",
    "(b) Compute some summary statistics on at least three columns & create a new DataFrame out of the three columns computed statistics on. We can look at one column by explicitly passing it in the square brackets along with the column /field name in double quotes:\n",
    "\n",
    "(c) Next we will isolate the data we want to focus our attention on by creating a new DataFrame from the source, and by applying a few filters against it. We want to isolate the records where all the following conditions are true. First the Daily Difference count is greater than zero. Next the Case Type should be Confirmed. Finally, the Country_Region should be only Italy: (HINT one can use this line to create a new DataFrame: `df_results = covid_df[(covid_df.Difference >0) & (covid_df.Case_Type == 'Confirmed') & (covid_df.Country_Region == 'Italy')]`)\n",
    "\n",
    "Check whether the results are sorted by cases & ascending order to  well and accordingly, write the command to accomplish it:\n"
   ]
  },
  {
   "cell_type": "markdown",
   "id": "5d52e2cf",
   "metadata": {},
   "source": [
    "## END "
   ]
  },
  {
   "cell_type": "code",
   "execution_count": null,
   "id": "ba8a4513",
   "metadata": {},
   "outputs": [],
   "source": []
  }
 ],
 "metadata": {
  "kernelspec": {
   "display_name": "Python 3 (ipykernel)",
   "language": "python",
   "name": "python3"
  },
  "language_info": {
   "codemirror_mode": {
    "name": "ipython",
    "version": 3
   },
   "file_extension": ".py",
   "mimetype": "text/x-python",
   "name": "python",
   "nbconvert_exporter": "python",
   "pygments_lexer": "ipython3",
   "version": "3.10.5"
  }
 },
 "nbformat": 4,
 "nbformat_minor": 5
}
